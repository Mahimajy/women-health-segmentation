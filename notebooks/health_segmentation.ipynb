import pandas as pd
import matplotlib.pyplot as plt
import seaborn as sns

# Load clustered data
df = pd.read_csv("../results/segmented_health_data.csv")

# Plot cluster distributions
plt.figure(figsize=(8, 5))
sns.countplot(x="gmm_cluster", data=df, palette="Set2")
plt.title("Distribution of GMM Clusters")
plt.xlabel("Cluster")
plt.ylabel("Count")
plt.show()

# Scatter plot of BMI vs. Stress Level by cluster
plt.figure(figsize=(8, 5))
sns.scatterplot(x="bmi", y="stress_level", hue="gmm_cluster", data=df, palette="coolwarm")
plt.title("BMI vs. Stress Level by Cluster")
plt.show()

# Save Notebook
print("Notebook ready for further analysis!")
